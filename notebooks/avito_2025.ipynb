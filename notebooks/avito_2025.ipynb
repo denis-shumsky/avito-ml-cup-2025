{
 "cells": [
  {
   "cell_type": "code",
   "execution_count": null,
   "id": "68e2bab2",
   "metadata": {},
   "outputs": [],
   "source": [
    "import pandas as pd\n",
    "import numpy as np\n",
    "from pathlib import Path\n",
    "from datetime import timedelta\n",
    "from sklearn.model_selection import train_test_split\n",
    "from catboost import CatBoostClassifier, Pool\n",
    "from tqdm import tqdm\n",
    "import pyarrow.dataset as ds"
   ]
  },
  {
   "cell_type": "code",
   "execution_count": null,
   "id": "d41ecee1",
   "metadata": {},
   "outputs": [],
   "source": [
    "DATA_DIR = Path(r\"C:\\Users\\Denis\\Desktop\\avito\")"
   ]
  },
  {
   "cell_type": "markdown",
   "id": "c9b9d77e",
   "metadata": {},
   "source": [
    "# Загрузка events и фильтрация clickstream по contact"
   ]
  },
  {
   "cell_type": "code",
   "execution_count": null,
   "id": "761b2680",
   "metadata": {},
   "outputs": [],
   "source": [
    "events = pd.read_parquet(DATA_DIR / \"events.pq\")\n",
    "contact_event_ids = events.query(\"is_contact == 1\")[\"event\"].unique()\n",
    "\n",
    "# Используем pyarrow для фильтрации при чтении\n",
    "clicks_ds = ds.dataset(str(DATA_DIR / \"clickstream.pq\"), format=\"parquet\")\n",
    "clicks_table = clicks_ds.to_table(\n",
    "    filter=ds.field(\"event\").isin(contact_event_ids),\n",
    "    columns=[\"cookie\", \"node\", \"item\", \"event_date\", \"platform\"]\n",
    ")\n",
    "clicks = clicks_table.to_pandas()"
   ]
  },
  {
   "cell_type": "markdown",
   "id": "bb84c5a9",
   "metadata": {},
   "source": [
    "# Делим на train / eval по времени"
   ]
  },
  {
   "cell_type": "code",
   "execution_count": null,
   "id": "ccb5a64e",
   "metadata": {},
   "outputs": [],
   "source": [
    "threshold = clicks[\"event_date\"].max() - timedelta(days=14)\n",
    "train_clicks = clicks[clicks[\"event_date\"] <= threshold]\n",
    "eval_clicks = clicks[clicks[\"event_date\"] > threshold]"
   ]
  },
  {
   "cell_type": "markdown",
   "id": "e244d05a",
   "metadata": {},
   "source": [
    "# Кандидаты: популярные node"
   ]
  },
  {
   "cell_type": "code",
   "execution_count": null,
   "id": "6fab3d66",
   "metadata": {},
   "outputs": [],
   "source": [
    "popular_nodes = train_clicks[\"node\"].value_counts().head(1000).index.tolist()\n",
    "user_history = train_clicks.groupby(\"cookie\")[\"node\"].apply(set).to_dict()\n",
    "\n",
    "candidates = []\n",
    "for cookie in tqdm(eval_clicks[\"cookie\"].unique()):\n",
    "    seen = user_history.get(cookie, set())\n",
    "    candidate_nodes = [n for n in popular_nodes if n not in seen]\n",
    "    for node in candidate_nodes:\n",
    "        candidates.append({\"cookie\": cookie, \"node\": node})\n",
    "\n",
    "df_candidates = pd.DataFrame(candidates)"
   ]
  },
  {
   "cell_type": "markdown",
   "id": "1c86820c",
   "metadata": {},
   "source": [
    "# Целевая переменная (target)"
   ]
  },
  {
   "cell_type": "code",
   "execution_count": null,
   "id": "6dae0d43",
   "metadata": {},
   "outputs": [],
   "source": [
    "true_contacts = eval_clicks[[\"cookie\", \"node\"]].drop_duplicates()\n",
    "true_contacts[\"target\"] = 1\n",
    "\n",
    "df_data = df_candidates.merge(true_contacts, on=[\"cookie\", \"node\"], how=\"left\")\n",
    "df_data[\"target\"] = df_data[\"target\"].fillna(0).astype(\"int\")"
   ]
  },
  {
   "cell_type": "markdown",
   "id": "fcb98d1f",
   "metadata": {},
   "source": [
    "# Фичи: user_node_count, node_popularity, user_unique_nodes, platform"
   ]
  },
  {
   "cell_type": "code",
   "execution_count": null,
   "id": "48df1f28",
   "metadata": {},
   "outputs": [],
   "source": [
    "interaction_counts = train_clicks.groupby([\"cookie\", \"node\"]).size().reset_index(name=\"user_node_count\")\n",
    "df_data = df_data.merge(interaction_counts, on=[\"cookie\", \"node\"], how=\"left\")\n",
    "df_data[\"user_node_count\"] = df_data[\"user_node_count\"].fillna(0)\n",
    "\n",
    "node_pop = train_clicks[\"node\"].value_counts().reset_index()\n",
    "node_pop.columns = [\"node\", \"node_popularity\"]\n",
    "df_data = df_data.merge(node_pop, on=\"node\", how=\"left\")\n",
    "\n",
    "user_node_diversity = train_clicks.groupby(\"cookie\")[\"node\"].nunique().reset_index()\n",
    "user_node_diversity.columns = [\"cookie\", \"user_unique_nodes\"]\n",
    "df_data = df_data.merge(user_node_diversity, on=\"cookie\", how=\"left\")\n",
    "\n",
    "platforms = train_clicks.sort_values(\"event_date\").groupby(\"cookie\")[\"platform\"].last().reset_index()\n",
    "df_data = df_data.merge(platforms, on=\"cookie\", how=\"left\")"
   ]
  },
  {
   "cell_type": "markdown",
   "id": "d3d6fcce",
   "metadata": {},
   "source": [
    "# Готовим данные для CatBoost"
   ]
  },
  {
   "cell_type": "code",
   "execution_count": null,
   "id": "4c3c3693",
   "metadata": {},
   "outputs": [],
   "source": [
    "features = [\"user_node_count\", \"node_popularity\", \"user_unique_nodes\", \"platform\"]\n",
    "X = df_data[features]\n",
    "y = df_data[\"target\"]\n",
    "\n",
    "X_train, X_val, y_train, y_val = train_test_split(X, y, stratify=y, test_size=0.2, random_state=42)\n",
    "\n",
    "cat_features = [\"platform\"]\n",
    "\n",
    "train_pool = Pool(X_train, y_train, cat_features=cat_features)\n",
    "val_pool = Pool(X_val, y_val, cat_features=cat_features)\n",
    "\n",
    "model = CatBoostClassifier(iterations=200, depth=6, learning_rate=0.1, eval_metric=\"Recall\", verbose=50)\n",
    "model.fit(train_pool, eval_set=val_pool)"
   ]
  },
  {
   "cell_type": "markdown",
   "id": "d95022a7",
   "metadata": {},
   "source": [
    "# Предсказания и Recall@40"
   ]
  },
  {
   "cell_type": "code",
   "execution_count": null,
   "id": "b6bfdc3e",
   "metadata": {},
   "outputs": [],
   "source": [
    "df_data[\"pred_proba\"] = model.predict_proba(X)[:, 1]\n",
    "\n",
    "topk = (\n",
    "    df_data.sort_values(\"pred_proba\", ascending=False)\n",
    "    .groupby(\"cookie\")\n",
    "    .head(40)[[\"cookie\", \"node\"]]\n",
    ")\n",
    "\n",
    "def recall_at_k(df_eval, df_pred, k=40):\n",
    "    true = df_eval.groupby(\"cookie\")[\"node\"].apply(set)\n",
    "    pred = df_pred.groupby(\"cookie\")[\"node\"].apply(list)\n",
    "\n",
    "    recalls = []\n",
    "    for cookie in true.index.intersection(pred.index):\n",
    "        y_true = true[cookie]\n",
    "        y_pred = pred[cookie][:k]\n",
    "        if y_true:\n",
    "            recall = len(set(y_pred) & y_true) / len(y_true)\n",
    "            recalls.append(recall)\n",
    "    return np.mean(recalls)\n",
    "\n",
    "recall = recall_at_k(true_contacts, topk, k=40)\n",
    "print(f\"\\n Локальный Recall@40: {recall:.5f}\")"
   ]
  },
  {
   "cell_type": "markdown",
   "id": "030ff093",
   "metadata": {},
   "source": [
    "# Формирование submit.csv"
   ]
  },
  {
   "cell_type": "code",
   "execution_count": null,
   "id": "3de75fd0",
   "metadata": {},
   "outputs": [],
   "source": [
    "# Загружаем test_users \n",
    "test_users = pd.read_parquet(DATA_DIR / \"test_users.pq\")\n",
    "\n",
    "# Оставим только предсказания по test_users\n",
    "submit_topk = (\n",
    "    df_data[df_data[\"cookie\"].isin(test_users[\"cookie\"])]\n",
    "    .sort_values(\"pred_proba\", ascending=False)\n",
    "    .groupby(\"cookie\")\n",
    "    .head(40)[[\"cookie\", \"node\"]]\n",
    ")\n",
    "\n",
    "# Сохраняем\n",
    "submit_topk.to_csv(DATA_DIR / \"submit.csv\", index=False)"
   ]
  }
 ],
 "metadata": {
  "kernelspec": {
   "display_name": "Python 3 (ipykernel)",
   "language": "python",
   "name": "python3"
  },
  "language_info": {
   "codemirror_mode": {
    "name": "ipython",
    "version": 3
   },
   "file_extension": ".py",
   "mimetype": "text/x-python",
   "name": "python",
   "nbconvert_exporter": "python",
   "pygments_lexer": "ipython3",
   "version": "3.11.4"
  },
  "toc": {
   "base_numbering": 1,
   "nav_menu": {},
   "number_sections": true,
   "sideBar": true,
   "skip_h1_title": false,
   "title_cell": "Table of Contents",
   "title_sidebar": "Contents",
   "toc_cell": false,
   "toc_position": {},
   "toc_section_display": true,
   "toc_window_display": false
  }
 },
 "nbformat": 4,
 "nbformat_minor": 5
}
